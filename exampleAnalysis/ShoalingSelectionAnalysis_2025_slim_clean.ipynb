{
 "cells": [
  {
   "cell_type": "markdown",
   "metadata": {
    "collapsed": true,
    "jupyter": {
     "outputs_hidden": true
    }
   },
   "source": [
    "# Summary analysis for ongoing selection\n"
   ]
  },
  {
   "cell_type": "markdown",
   "metadata": {},
   "source": [
    "- For this to work, you need to adapt the folder where raw data and metaData live.\n",
    "- Also, you need to clone the jlsocialbehavior repository and create the environment jlsocial from the yml file."
   ]
  },
  {
   "cell_type": "code",
   "execution_count": null,
   "metadata": {},
   "outputs": [],
   "source": [
    "import os\n",
    "\n",
    "#define folders\n",
    "\n",
    "# base = 'Y:\\\\Johannes\\\\b\\\\2019\\\\' This is the original base folder where the meta data was stored\n",
    "metaFolder = 'Y:\\\\Carlos\\\\shoaling_assay_data\\\\'  # Updated base folder. Metadata should live here.\n",
    "codeDir = 'D:\\\\Documents\\\\jlsocialbehavior' #adapt this to your code folder\n",
    "metaFile='MetaData_CR.xlsx'\n",
    "ProcessingDir = 'Y:\\\\03 Common Use\\\\temp\\\\temp_processing\\\\'\n",
    "outputDir = 'Y:\\\\03 Common Use\\\\temp\\\\temp_output\\\\'\n",
    "\n",
    "print('searching for meta info here: ' + metaFolder)\n",
    "\n",
    "os.chdir(codeDir)"
   ]
  },
  {
   "cell_type": "code",
   "execution_count": null,
   "metadata": {},
   "outputs": [],
   "source": [
    "import matplotlib.pyplot as plt\n",
    "import numpy as np\n",
    "import statsmodels.stats.api as sms\n",
    "\n",
    "%config InteractiveShellApp.pylab_import_all = False\n",
    "%matplotlib inline\n",
    "%reload_ext autoreload\n",
    "%autoreload 2\n",
    "\n",
    "import sys\n",
    "import fnmatch\n",
    "\n",
    "import math\n",
    "import matplotlib.pyplot as plt\n",
    "import matplotlib as mpl\n",
    "import pandas as pd\n",
    "from pandas import DataFrame, Series\n",
    "import seaborn as sns\n",
    "import glob\n",
    "#import h5py\n",
    "from datetime import datetime\n",
    "import PythonMeta as PMA\n",
    "from matplotlib.ticker import AutoLocator\n",
    "\n",
    "import functions.matrixUtilities_joh as mu\n",
    "import functions.notebookHelper as nh\n",
    "import functions.metaTree as mt\n",
    "\n",
    "import models.experiment as xp\n",
    "import models.experiment_set as es\n",
    "import functions.paperFigureProps as pfp\n",
    "pfp.paper()"
   ]
  },
  {
   "cell_type": "code",
   "execution_count": null,
   "metadata": {},
   "outputs": [],
   "source": [
    "info=pd.read_excel(metaFolder+metaFile, sheet_name='AllExp')\n",
    "info"
   ]
  },
  {
   "cell_type": "code",
   "execution_count": null,
   "metadata": {},
   "outputs": [],
   "source": [
    "infoAn=pd.read_excel(metaFolder+metaFile, sheet_name='AllAn',parse_dates=['bd','expDate'])\n",
    "infoAn['bd'] = pd.to_datetime(infoAn['bd'], format='%Y%m%d')\n",
    "infoAn['expDate'] = pd.to_datetime(infoAn['expDate'], format='%Y%m%d')\n",
    "infoAn.tail()"
   ]
  },
  {
   "cell_type": "code",
   "execution_count": null,
   "metadata": {},
   "outputs": [],
   "source": [
    "infoAn.genotype.unique()"
   ]
  },
  {
   "cell_type": "code",
   "execution_count": null,
   "metadata": {},
   "outputs": [],
   "source": [
    "# collect meta information and save to new csv file for batch processing\n",
    "\n",
    "aviPath=[]\n",
    "posPath=[]\n",
    "PLPath=[]\n",
    "expTime = []\n",
    "birthDayAll=[]\n",
    "anIDsAll=[]\n",
    "camHeightAll=[]\n",
    "\n",
    "camHeight=[105,180] # these are outdated values, but we keep them for compatibility with old data\n",
    "\n",
    "for index,row in info.iterrows():\n",
    "\n",
    "    startDir=row.path+'\\\\'+row.folder+'\\\\'\n",
    "    print('processing: ' + startDir)\n",
    "    if not os.path.exists(startDir):\n",
    "        print('WARNING: path does not exist: ' + startDir)\n",
    "        continue\n",
    "\n",
    "    \n",
    "    posPath.append(glob.glob(startDir+'PositionTxt*')[0]) #this is the trajectory file\n",
    "    PLPath.append(glob.glob(startDir+'PL*')[0]) # this is the pair list file\n",
    "    \n",
    "    head, tail = os.path.split(posPath[-1])\n",
    "    currTime='dummy' #datetime.strptime(tail[-23:-4], '%Y-%m-%dT%H_%M_%S')\n",
    "    expTime.append(currTime)\n",
    "    \n",
    "    camHeightAll.append(camHeight[('_dn_' in head)*1]) ######### this needs to be adapted for new data, since the camHeight is not stored in the meta data anymore.\n",
    "    \n",
    "    anNrs=row.anNr #Note that anNrs are 1 based!\n",
    "    if ':' in anNrs:\n",
    "        a,b=anNrs.split(sep=':')\n",
    "        anNrs=np.arange(int(a),int(b)+1)\n",
    "    else:\n",
    "        anNrs=np.array(anNrs.split()).astype(int)\n",
    "        \n",
    "    anIDs=anNrs #-1 no more 0-based since using pandas merge to find animal numbers\n",
    "    anIDsAll.extend(anIDs)\n",
    "\n",
    "    bd=infoAn[infoAn.anNr.isin(anIDs)].bd.values.astype(str) # get birth dates of animals in this experiment\n",
    "    #bd=infoAn.bd.values[anIDs-1] #a bit dirty to use anIDs directly here. Should merge\n",
    "    birthDayAll.append(' '.join(list(bd)))\n",
    "\n",
    "info['camHeight']=camHeightAll\n",
    "info['txtPath']=posPath\n",
    "info['pairList']=PLPath\n",
    "info['aviPath']='default'\n",
    "info['birthDayAll']=birthDayAll\n",
    "info['epiDur'] = 5      # duration of individual episodes (default: 5 minutes)\n",
    "info['episodes'] = 24   # number of episodes to process: -1 to load all episodes (default: -1)\n",
    "info['inDish'] = 10#np.arange(len(posPath))*120     # time in dish before experiments started (default: 10)\n",
    "info['arenaDiameter_mm'] = 70 # arena diameter (default: 100 mm)\n",
    "info['minShift'] = 60 # minimum number of seconds to shift for control IAD\n",
    "info['episodePLcode'] = 0 # flag if first two characters of episode name encode animal pair matrix (default: 0)\n",
    "info['recomputeAnimalSize'] = 0 # flag to compute animals size from avi file (takes time, default: 1)\n",
    "info['SaveNeighborhoodMaps'] = 0 # flag to save neighborhood maps for subsequent analysis (takes time, default: 1)\n",
    "info['computeLeadership'] = 0 # flag to compute leadership index (takes time, default: 1)\n",
    "info['ComputeBouts'] = 1 # flag to compute swim bout frequency (takes time, default: 1)\n",
    "#info['set'] = np.arange(len(posPath))   # experiment set: can label groups of experiments (default: 0)\n",
    "info['ProcessingDir']=ProcessingDir\n",
    "info['outputDir']=outputDir\n",
    "info['expTime']=expTime\n",
    "info['readLim'] = 24*5*60*30+11"
   ]
  },
  {
   "cell_type": "code",
   "execution_count": null,
   "metadata": {},
   "outputs": [],
   "source": [
    "csvFile=os.path.join(ProcessingDir,'processingSettings.csv')\n",
    "info.to_csv(csvFile,encoding='utf-8')\n",
    "info.tail()"
   ]
  },
  {
   "cell_type": "code",
   "execution_count": null,
   "metadata": {},
   "outputs": [],
   "source": [
    "rereadData=1\n",
    "if rereadData:\n",
    "    def readExperiment(keepData=True):\n",
    "        tmp=es.experiment_set(csvFile=csvFile,MissingOnly=True)\n",
    "        if keepData:\n",
    "            return tmp\n",
    "        else:\n",
    "            return 1\n",
    "\n",
    "    expSet=readExperiment(keepData=False)"
   ]
  },
  {
   "cell_type": "code",
   "execution_count": null,
   "metadata": {},
   "outputs": [],
   "source": [
    "csvPath = []\n",
    "for f in [mu.splitall(x)[-1][:-4] for x in info.txtPath]:\n",
    "    csvPath.append(glob.glob(ProcessingDir+f+'*siSummary*.csv')[0])\n",
    "\n",
    "df=pd.DataFrame()\n",
    "i=0\n",
    "for fn in csvPath:\n",
    "    print(fn)\n",
    "    tmp=pd.read_csv(fn,index_col=0,sep=',')\n",
    "    tmp.animalSet=i\n",
    "    tmp.animalIndex=tmp.animalIndex+((i)*35)\n",
    "    tmp.animalIndex=np.array(anIDsAll)[tmp.animalIndex]\n",
    "    df=pd.concat([df,tmp])\n",
    "    i+=1\n",
    "df['episode']=[x.strip().replace('_','') for x in df['episode']]\n",
    "df=pd.merge(df,infoAn[['anNr','line','genotype']],left_on='animalIndex',right_on='anNr',how='left')\n",
    "df=pd.merge(df,info[['date']],left_on='animalSet',right_on=info.index,how='left')\n",
    "df['setup'] = info['setup'].values[df['animalSet'].values]\n",
    "print('df shape',df.shape)\n",
    "df['lineSet']=[x+'_'+y for x,y in zip(df.line, df.date)]\n",
    "\n",
    "\n",
    "df.tail(10)"
   ]
  },
  {
   "cell_type": "code",
   "execution_count": null,
   "metadata": {},
   "outputs": [],
   "source": [
    "sns.set_palette('viridis',3)\n",
    "co=sns.color_palette(\"viridis\", 3)\n",
    "idx=(df['inDishTime']<240) & (df['inDishTime']>80)\n",
    "dfDR=df[idx]\n",
    "dfEpiAn=dfDR.groupby(['episode','animalIndex','line','setup','genotype','date','lineSet'],sort=True).mean(numeric_only=True).reset_index()"
   ]
  },
  {
   "cell_type": "code",
   "execution_count": null,
   "metadata": {},
   "outputs": [],
   "source": [
    "dfEpiAn.head()"
   ]
  },
  {
   "cell_type": "code",
   "execution_count": null,
   "metadata": {},
   "outputs": [],
   "source": [
    "\n",
    "def sem(x):\n",
    "    return np.std(x, ddof=1) / np.sqrt(len(x))\n",
    "\n",
    "x=np.random.random(100)\n",
    "\n",
    "def ci95(x):\n",
    "    return np.nanmean(x)-sms.DescrStatsW(x[np.isfinite(x)]).tconfint_mean()[0]\n",
    "\n",
    "print('std of uniform = 0.2886751345948129. STDdata:',np.std(x), 'semData:',sem(x),'samples:',x.shape) \n",
    "print('ci95:',ci95(x))"
   ]
  },
  {
   "cell_type": "code",
   "execution_count": null,
   "metadata": {},
   "outputs": [],
   "source": [
    "dfPlot=(df.groupby(['inDishTime','episode','genotype','lineSet']).si.agg(['mean','std',sem,ci95])\n",
    "    .unstack()\n",
    "    .stack(dropna=True)\n",
    "    .reset_index())\n",
    "\n",
    "dfPlot.head()"
   ]
  },
  {
   "cell_type": "code",
   "execution_count": null,
   "metadata": {},
   "outputs": [],
   "source": [
    "dfPlot_filtered = dfPlot[dfPlot['genotype'] != 'esc']\n",
    "\n",
    "markers = {'hi': 'o', 'lo': 's'}  # adjust to your genotypes\n",
    "\n",
    "\n",
    "g = sns.FacetGrid(\n",
    "    dfPlot_filtered,\n",
    "    col='lineSet',         # Facet by genotype (change as needed)\n",
    "    col_wrap=3,             # Adjust for compactness\n",
    "    sharex=True,\n",
    "    sharey=True,\n",
    "    height=2,\n",
    "    aspect=1\n",
    ")\n",
    "g.map_dataframe(\n",
    "    sns.scatterplot,\n",
    "    x='inDishTime',\n",
    "    y='mean',\n",
    "    hue='episode',\n",
    "    style='genotype',\n",
    "    size=10,\n",
    "    markers=markers,\n",
    "    legend='full',\n",
    "\n",
    ")\n",
    "g.set(xlim=(0, 2.5*60), ylim=(0, .5))\n",
    "g.set_axis_labels('Time (Minutes)', 'Attraction')\n",
    "g.set_titles('{col_name}')\n",
    "g.figure.subplots_adjust(top=0.85)\n",
    "g.figure.suptitle('Mean attraction, all animals', fontsize=14)\n",
    "\n",
    "# Remove the default legend and add a correct one\n",
    "for ax in g.axes.flatten():\n",
    "    handles, labels = ax.get_legend_handles_labels()\n",
    "    ax.legend_.remove() if hasattr(ax, \"legend_\") and ax.legend_ else None\n",
    "\n",
    "# Add a single legend to the figure\n",
    "handles, labels = g.axes[0].get_legend_handles_labels()\n",
    "g.figure.legend(handles, labels, ncol=1, handletextpad=0, bbox_to_anchor=(1, 1), loc='upper left')\n",
    "\n",
    "\n",
    "\n",
    "\n",
    "\n"
   ]
  },
  {
   "cell_type": "code",
   "execution_count": null,
   "metadata": {},
   "outputs": [],
   "source": [
    "dfPlot_filtered2 = dfPlot[(dfPlot['genotype'] != 'esc') & (dfPlot['episode'] != '01k01f')]\n",
    "\n",
    "g = sns.FacetGrid(\n",
    "    dfPlot_filtered2,\n",
    "    col='lineSet',         # Facet by genotype (change as needed)\n",
    "    col_wrap=3,             # Adjust for compactness\n",
    "    sharex=True,\n",
    "    sharey=True,\n",
    "    height=2,\n",
    "    aspect=1\n",
    ")\n",
    "g.map_dataframe(\n",
    "    sns.scatterplot,\n",
    "    x='inDishTime',\n",
    "    y='mean',\n",
    "    hue='genotype',\n",
    "    \n",
    ")\n",
    "g.set(xlim=(0, 2.5*60), ylim=(0, .5))\n",
    "g.set_axis_labels('Time (Minutes)', 'Attraction')\n",
    "g.set_titles('{col_name}')\n",
    "g.figure.subplots_adjust(top=0.85)\n",
    "g.figure.suptitle('Mean attraction, all animals', fontsize=14)\n",
    "\n",
    "# Remove the default legend and add a correct one\n",
    "for ax in g.axes.flatten():\n",
    "    handles, labels = ax.get_legend_handles_labels()\n",
    "    ax.legend_.remove() if hasattr(ax, \"legend_\") and ax.legend_ else None\n",
    "\n",
    "# Add a single legend to the figure\n",
    "handles, labels = g.axes[0].get_legend_handles_labels()\n",
    "g.figure.legend(handles, labels, ncol=1, handletextpad=0, bbox_to_anchor=(1, 1), loc='upper left')\n"
   ]
  },
  {
   "cell_type": "code",
   "execution_count": null,
   "metadata": {},
   "outputs": [],
   "source": [
    "sns.pointplot(data=dfEpiAn[dfEpiAn.episode=='02k20f'],x='lineSet',y='si',hue='setup',linestyle='none')\n",
    "plt.ylim([0,.4])\n",
    "plt.xticks(rotation=90);\n",
    "plt.ylabel('Shoaling Index');\n"
   ]
  },
  {
   "cell_type": "code",
   "execution_count": null,
   "metadata": {},
   "outputs": [],
   "source": [
    "fig, axes = plt.subplots(figsize=(8,3))\n",
    "sns.pointplot(data=dfEpiAn[dfEpiAn.episode=='02k20f'],\n",
    "              x='lineSet',\n",
    "              y='si',\n",
    "              hue='genotype',\n",
    "              \n",
    "             linestyle='none',\n",
    "             errorbar='sd',\n",
    "             dodge=.5)\n",
    "sns.despine()\n",
    "\n",
    "axes.set_ylabel('Shoaling Index')\n",
    "axes.axhline(0,ls=':',color='k')\n",
    "axes.set_title('Frequency tuning per age group');\n",
    "plt.legend(title='age',ncol=2,handletextpad=0,bbox_to_anchor=(1, 1.05))\n",
    "plt.xticks(rotation=90);"
   ]
  },
  {
   "cell_type": "code",
   "execution_count": null,
   "metadata": {},
   "outputs": [],
   "source": [
    "fig, axes = plt.subplots(figsize=(8, 3))\n",
    "ix=(dfEpiAn.episode=='02k20f')#&(~dfEpiAn.lineSet.str.contains('_2_'))\n",
    "\n",
    "selDat=dfEpiAn[ix]\n",
    "\n",
    "allCat=selDat.lineSet.unique()\n",
    "allCat.sort()\n",
    "allCat=allCat[::-1]\n",
    "\n",
    "sns.swarmplot(data=selDat,\n",
    "              x='lineSet',\n",
    "              y='si',\n",
    "              hue='genotype',\n",
    "              zorder=-1,\n",
    "              dodge=.5,\n",
    "              size=5,\n",
    "              alpha=.5,\n",
    "              #order=allCat,\n",
    "             hue_order=[\"hi\", \"lo\",'wt','esc','mid'])\n",
    "\n",
    "sns.pointplot(data=selDat,\n",
    "              x='lineSet',\n",
    "              y='si',\n",
    "              hue='genotype',\n",
    "              dodge=.5,\n",
    "              linestyle='none',\n",
    "              errorbar='sd',\n",
    "              hue_order=[\"hi\", \"lo\",'wt','esc','mid'])\n",
    "\n",
    "\n",
    "sns.despine()\n",
    "\n",
    "axes.set_ylabel('Attraction')\n",
    "axes.set_xlabel('Cohort')\n",
    "\n",
    "axes.axhline(0,ls=':',color='k')\n",
    "#axes.set_title('Selection F1');\n",
    "\n",
    "plt.xticks(rotation=90);\n",
    "\n",
    "handles, labels = axes.get_legend_handles_labels()\n",
    "\n",
    "l = plt.legend(handles[0:5], labels[0:5], title='Parents',ncol=1,handletextpad=0,\n",
    "               bbox_to_anchor=(1, 1.05),\n",
    "              frameon=False)\n",
    "\n",
    "#figPath=base+'SelectionAllToF1.png'\n",
    "#plt.savefig(figPath,bbox_inches='tight')\n",
    "\n",
    "plt.title('Selection per experiment');\n"
   ]
  },
  {
   "cell_type": "markdown",
   "metadata": {},
   "source": [
    "# Generate Grid overview which animals to select\n",
    "\n",
    "select one experimental condition to be analyzed and plotted based on lineSet as 'ShowGroup' below.\n",
    "This will typically be from two setups."
   ]
  },
  {
   "cell_type": "code",
   "execution_count": null,
   "metadata": {},
   "outputs": [],
   "source": [
    "dfEpiAn.lineSet.unique()"
   ]
  },
  {
   "cell_type": "code",
   "execution_count": null,
   "metadata": {},
   "outputs": [],
   "source": [
    "ShowGroup='Sel1_10_18-06-2025'\n",
    "nSel=10 #how many fish to select, typically 10"
   ]
  },
  {
   "cell_type": "code",
   "execution_count": null,
   "metadata": {},
   "outputs": [],
   "source": [
    "ix=(dfEpiAn.episode=='02k20f')&(dfEpiAn.lineSet==ShowGroup)\n",
    "\n",
    "selDat=dfEpiAn[ix].copy()\n",
    "selDat['plotGroup']=0\n",
    "\n",
    "selDat['rank']=selDat.groupby(['lineSet','genotype'])['si'].rank()\n",
    "selDat['rankInverse']=selDat.groupby(['lineSet','genotype'])['si'].rank(ascending=False)\n",
    "selDat['pick']=((((selDat['rank']<=nSel)&(selDat['genotype']=='lo')) | ((selDat.rankInverse<=nSel)&(selDat['genotype']=='hi'))))\n",
    "\n",
    "\n",
    "sns.swarmplot(selDat,x='genotype',y='si',color='gray');\n",
    "sns.swarmplot(selDat[selDat['pick']==1 ],x='genotype',y='si',hue='genotype');\n",
    "plt.title(ShowGroup + ' selection of ' + str(nSel) + ' fish per group');\n",
    "plt.ylabel('Attraction');\n",
    "plt.xlabel('Group');\n",
    "\n"
   ]
  },
  {
   "cell_type": "code",
   "execution_count": null,
   "metadata": {},
   "outputs": [],
   "source": [
    "ix=(dfEpiAn.episode=='02k20f')&(dfEpiAn.lineSet==ShowGroup)\n",
    "g=sns.FacetGrid(dfEpiAn[ix].groupby(['setup','animalID','genotype']).mean(numeric_only=True).reset_index(),col='genotype',hue='setup')\n",
    "#g.set(xlim=(0,.5))\n",
    "\n",
    "g=g.map(plt.scatter,'si','anSize',s=50,alpha=0.7)\n",
    "plt.legend()"
   ]
  },
  {
   "cell_type": "code",
   "execution_count": null,
   "metadata": {},
   "outputs": [],
   "source": [
    "ixlo=(dfEpiAn.episode=='02k20f')&(dfEpiAn.genotype=='lo')&(dfEpiAn.lineSet==ShowGroup)\n",
    "dataLo=dfEpiAn[ixlo].groupby(['setup','animalID','genotype']).si.mean().reset_index()\n",
    "dataLo['rank']=dataLo.si.rank()\n",
    "dataLo=dataLo.sort_values(by='rank').reset_index()\n",
    "dataLo"
   ]
  },
  {
   "cell_type": "code",
   "execution_count": null,
   "metadata": {},
   "outputs": [],
   "source": [
    "\n",
    "ixhi=(dfEpiAn.episode=='02k20f')&(dfEpiAn.genotype=='hi')&(dfEpiAn.lineSet==ShowGroup)\n",
    "dataHi=dfEpiAn[ixhi].groupby(['setup','animalID','genotype']).si.mean(numeric_only=True).reset_index()\n",
    "dataHi['rank']=dataHi.si.rank()\n",
    "dataHi=dataHi.sort_values(by='rank',ascending =False).reset_index()\n",
    "dataHi"
   ]
  },
  {
   "cell_type": "code",
   "execution_count": null,
   "metadata": {},
   "outputs": [],
   "source": [
    "fig, axes = plt.subplots(2,1,figsize=(3.5, 5))\n",
    "\n",
    "\n",
    "major_ticks = np.arange(0, 7, 7)\n",
    "minor_ticks = np.arange(0, 7, 1)\n",
    "\n",
    "\n",
    "\n",
    "for n,ax in enumerate(axes):\n",
    "    for i in range(35):\n",
    "        ax.text(i%7+.5,4-np.floor_divide(i,7)+.5,str(i))\n",
    "        \n",
    "    \n",
    "    ax.set_xticks(major_ticks)\n",
    "    ax.set_xticks(minor_ticks, minor=True)\n",
    "    ax.set_yticks(major_ticks)\n",
    "    ax.set_yticks(minor_ticks, minor=True)\n",
    "\n",
    "    ax.set_xlim([0,7])\n",
    "    ax.set_ylim([0,5])\n",
    "    ax.grid(which='both')\n",
    "    ax.tick_params(labelbottom=False)    \n",
    "    ax.tick_params(labelleft=False)  \n",
    "    \n",
    "for n,row in dataHi[:nSel].iterrows():\n",
    "    a=int(row.setup==2)\n",
    "    i=row.animalID\n",
    "    axes[a].plot(i%7+.5,4-np.floor_divide(i,7)+.5,'r.')\n",
    "    axes[a].text(i%7+.2,4-np.floor_divide(i,7)+.1,'hi:'+str(n),color='r',fontsize=8)\n",
    "\n",
    "for n,row in dataLo[:nSel].iterrows():\n",
    "    a=int(row.setup==2)\n",
    "    i=row.animalID\n",
    "    axes[a].plot(i%7+.5,4-np.floor_divide(i,7)+.5,'b.')\n",
    "    axes[a].text(i%7+.2,4-np.floor_divide(i,7)+.1,'lo:'+str(n),color='b',fontsize=8)\n",
    "    \n",
    "\n",
    "axes[0].set_title('setup1 '+ShowGroup + ' ' +dfEpiAn[ixhi].date.unique()[0]);\n",
    "axes[1].set_title('setup2 '+ShowGroup + ' ' +dfEpiAn[ixhi].date.unique()[0]);"
   ]
  },
  {
   "cell_type": "code",
   "execution_count": null,
   "metadata": {},
   "outputs": [],
   "source": [
    "ix=(dfEpiAn.episode=='02k20f')\n",
    "g=sns.FacetGrid(dfEpiAn[ix].groupby(['setup','animalID','genotype','lineSet']).mean(numeric_only=True).reset_index(),col='genotype')\n",
    "g=g.map(plt.scatter,'si','boutDur',s=10,alpha=0.5)\n",
    "for ax in g.axes.ravel():\n",
    "    ax.set_ylim([0.2,1.5])\n",
    "    ax.axhline(20/30)\n",
    "#figPath=base+'SelectionSizeVsShoal.png'\n",
    "#plt.savefig(figPath,bbox_inches='tight')\n"
   ]
  },
  {
   "cell_type": "code",
   "execution_count": null,
   "metadata": {},
   "outputs": [],
   "source": [
    "ix=(dfEpiAn.episode=='01k01f')\n",
    "g=sns.FacetGrid(dfEpiAn[ix].groupby(['setup','animalID','genotype','lineSet']).mean(numeric_only=True).reset_index(),col='genotype')\n",
    "g=g.map(plt.scatter,'si','boutDur',s=10,alpha=0.5)\n",
    "for ax in g.axes.ravel():\n",
    "    ax.set_ylim([0.2,1.5])\n",
    "    ax.axhline(20/30)"
   ]
  },
  {
   "cell_type": "code",
   "execution_count": null,
   "metadata": {},
   "outputs": [],
   "source": []
  }
 ],
 "metadata": {
  "kernelspec": {
   "display_name": "jlsocial",
   "language": "python",
   "name": "python3"
  },
  "language_info": {
   "codemirror_mode": {
    "name": "ipython",
    "version": 3
   },
   "file_extension": ".py",
   "mimetype": "text/x-python",
   "name": "python",
   "nbconvert_exporter": "python",
   "pygments_lexer": "ipython3",
   "version": "3.12.3"
  }
 },
 "nbformat": 4,
 "nbformat_minor": 4
}
