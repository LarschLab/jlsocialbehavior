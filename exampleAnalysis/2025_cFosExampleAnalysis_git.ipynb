{
 "cells": [
  {
   "cell_type": "markdown",
   "metadata": {
    "collapsed": true,
    "jupyter": {
     "outputs_hidden": true
    }
   },
   "source": [
    "# Example analysis of HCR c-fos experiment\n",
    "\n",
    "this notebook provides a simple overview of shoaling index over time and a few sanity checks of standard HCR shoaling experiments.\n",
    "it may also be useful as a starting point to undertand using the shoaling analysis code from Larsch & Baier 2018 and Kappel et al. 2022\n",
    "\n",
    "This particular example looks at one of Deeksha's man2a2 experiments. Which has a biased ratio of hom vs. het animals and is therefore difficult to interpret."
   ]
  },
  {
   "cell_type": "markdown",
   "metadata": {},
   "source": [
    "Prerequisites:\n",
    "\n",
    "**Raw data in one folder:**\n",
    "- video of the experiment\n",
    "- trajectory output file\n",
    "- ROI file\n",
    "- PL pair list\n",
    "- camera calibration file\n",
    "\n",
    "**Metadata in Excel file:**\n",
    "- tab for AllExperiment list\n",
    "- tab for AllAnimal list\n",
    "1. column for genotype\n",
    "2. Column for cohort (this can distinguish your stimuli, e.g. bout vs. invisble, for each animal)\n",
    "\n",
    "see Y:\\Deeksha\\MetaData_DK.xlsx as an example Metadata file\n",
    "\n",
    "**needs the jlsocialbehavior git repository and its dependencies**\n",
    "- https://github.com/LarschLab/jlsocialbehavior"
   ]
  },
  {
   "cell_type": "code",
   "execution_count": null,
   "metadata": {},
   "outputs": [],
   "source": [
    "#import socket\n",
    "import os\n",
    "\n",
    "RawDataDir = 'Y:\\\\Deeksha\\\\Behavior_mutant_screen\\\\RawData\\\\'\n",
    "codeDir = 'D:\\\\Documents\\\\jlsocialbehavior'\n",
    "ProcessingDir = RawDataDir\n",
    "outputDir = 'Y:\\\\Deeksha\\\\'\n",
    "MetaFile=outputDir+'MetaData_DK.xlsx'\n",
    "\n",
    "print('RawDataDir = ' + RawDataDir)\n",
    "\n",
    "os.chdir(codeDir)"
   ]
  },
  {
   "cell_type": "code",
   "execution_count": null,
   "metadata": {},
   "outputs": [],
   "source": [
    "import matplotlib.pyplot as plt\n",
    "import numpy as np\n",
    "\n",
    "%config InteractiveShellApp.pylab_import_all = False\n",
    "%matplotlib inline\n",
    "%reload_ext autoreload\n",
    "%autoreload 2\n",
    "\n",
    "import sys\n",
    "import fnmatch\n",
    "\n",
    "import math\n",
    "import matplotlib.pyplot as plt\n",
    "import matplotlib as mpl\n",
    "import pandas as pd\n",
    "from pandas import DataFrame, Series\n",
    "import seaborn as sns\n",
    "import glob\n",
    "#import h5py\n",
    "from datetime import datetime\n",
    "import PythonMeta as PMA\n",
    "from matplotlib.ticker import AutoLocator\n",
    "\n",
    "import functions.matrixUtilities_joh as mu\n",
    "import functions.notebookHelper as nh\n",
    "import functions.metaTree as mt\n",
    "\n",
    "import models.experiment as xp\n",
    "import models.experiment_set as es\n",
    "import functions.paperFigureProps as pfp\n",
    "import functions.plotFunctions_joh as pf\n",
    "pfp.paper()"
   ]
  },
  {
   "cell_type": "code",
   "execution_count": null,
   "metadata": {},
   "outputs": [],
   "source": [
    "#read metadata\n",
    "info=pd.read_excel(MetaFile,sheet_name='AllExp')\n",
    "info"
   ]
  },
  {
   "cell_type": "code",
   "execution_count": null,
   "metadata": {},
   "outputs": [],
   "source": [
    "#Select which experiment to process, e.g. based on the folderName\n",
    "info=info[info.folder=='20250129_shoaling_man2a2']\n",
    "info"
   ]
  },
  {
   "cell_type": "code",
   "execution_count": null,
   "metadata": {},
   "outputs": [],
   "source": [
    "#separately read animal information\n",
    "infoAn=pd.read_excel(MetaFile,sheet_name='AllAn')\n",
    "infoAn.head()"
   ]
  },
  {
   "cell_type": "code",
   "execution_count": null,
   "metadata": {},
   "outputs": [],
   "source": [
    "# Specify processing/analysis settings and save to csv file.\n",
    "\n",
    "posPath=[]\n",
    "PLPath=[]\n",
    "expTime = []\n",
    "birthDayAll=[]\n",
    "anIDsAll=[]\n",
    "camHeightAll=[]\n",
    "#fileLenAll=[]\n",
    "\n",
    "#camHeight=[105,180] #for arena up,dn\n",
    "camHeight=[180,105] #for arena up,dn\n",
    "for index,row in info.iterrows():\n",
    "    startDir=RawDataDir+row.folder+'\\\\'\n",
    "        \n",
    "    posPathNow=glob.glob(startDir+'PositionTxt*.csv')\n",
    "    if posPathNow:\n",
    "        posPath.append(posPathNow[0])\n",
    "        #fileLenAll.append(file_len(posPathNow[0]))\n",
    "        #print(index,fileLenAll[-1])\n",
    "        PLPath.append(glob.glob(startDir+'PL*.csv')[0])\n",
    "        head, tail = os.path.split(posPath[-1])\n",
    "        currTime=datetime.strptime(tail[-23:-4], '%Y-%m-%dT%H_%M_%S')\n",
    "        expTime.append(currTime)\n",
    "        camHeightAll.append(camHeight[('_dn' in head)*1])\n",
    "        \n",
    "    else:\n",
    "        posPath.append('')\n",
    "        PLPath.append('')\n",
    "        expTime.append('')\n",
    "        camHeightAll.append('')    \n",
    "\n",
    "\n",
    "    anNrs=row.anNr #Note that anNrs are 1 based!\n",
    "    if ':' in anNrs:\n",
    "        a,b=anNrs.split(sep=':')\n",
    "        anNrs=np.arange(int(a),int(b)+1)\n",
    "    else:\n",
    "        anNrs=np.array(anNrs.split()).astype(int)\n",
    "        \n",
    "    anIDs=anNrs #-1 no more 0-based since using pandas merge to find animal numbers\n",
    "    anIDsAll.extend(anIDs)\n",
    "\n",
    "    bd=infoAn[infoAn.anNr.isin(anIDs)].bd.values\n",
    "    #bd=infoAn.bd.values[anIDs-1] #a bit dirty to use anIDs directly here. Should merge\n",
    "    birthDayAll.append(' '.join(list(bd)))\n",
    "\n",
    "info.loc[:,'camHeight']=camHeightAll\n",
    "info.loc[:,'aviPath']='default'\n",
    "info.loc[:,'txtPath']=posPath\n",
    "info.loc[:,'pairList']=PLPath\n",
    "info.loc[:,'birthDayAll']=birthDayAll\n",
    "info.loc[:,'epiDur'] = 5      # duration of individual episodes (default: 5 minutes)\n",
    "info.loc[:,'episodes'] = 54   # number of episodes to process: -1 to load all episodes (default: -1)\n",
    "info.loc[:,'inDish'] = 10#np.arange(len(posPath))*120     # time in dish before experiments started (default: 10)\n",
    "info.loc[:,'arenaDiameter_mm'] = 70 # arena diameter (default: 100 mm)\n",
    "info.loc[:,'minShift'] = 60 # minimum number of seconds to shift for control IAD\n",
    "info.loc[:,'episodePLcode'] = 0 # flag if first two characters of episode name encode animal pair matrix (default: 0)\n",
    "info.loc[:,'recomputeAnimalSize'] = 1 # flag to compute animals size from avi file (takes time, default: 1)\n",
    "info.loc[:,'SaveNeighborhoodMaps'] = 0 # flag to save neighborhood maps for subsequent analysis (takes time, default: 1)\n",
    "info.loc[:,'computeLeadership'] = 0 # flag to compute leadership index (takes time, default: 1)\n",
    "info.loc[:,'ComputeBouts'] = 1 # flag to compute swim bout frequency (takes time, default: 1)\n",
    "info.loc[:,'ComputeSync'] = 1 # flag to compute swim synchronization with stimulus (takes time, default: 1)\n",
    "info.loc[:,'set'] = np.arange(len(posPath))   # experiment set: can label groups of experiments (default: 0)\n",
    "info.loc[:,'ProcessingDir']=ProcessingDir\n",
    "info.loc[:,'outputDir']=outputDir\n",
    "info.loc[:,'expTime']=expTime\n",
    "\n",
    "csvFile=os.path.join(ProcessingDir,'processingSettings.csv')\n",
    "info.to_csv(csvFile,encoding='utf-8')\n",
    "info.tail()"
   ]
  },
  {
   "cell_type": "code",
   "execution_count": null,
   "metadata": {},
   "outputs": [],
   "source": [
    "#Read and analyze the experiment data\n",
    "# this generates an output csv file with shoaling indices for each animal for every 5 minute period.\n",
    "# Also average speed, thigmotaxis, bout rate, animal size (based on video), and more esoteric indices\n",
    "\n",
    "rereadData=1\n",
    "if rereadData:\n",
    "    def readExperiment(keepData=True):\n",
    "        tmp=es.experiment_set(csvFile=csvFile,MissingOnly=False)\n",
    "        if keepData:\n",
    "            return tmp\n",
    "        else:\n",
    "            return 1\n",
    "\n",
    "    expSet=readExperiment(keepData=True)"
   ]
  },
  {
   "cell_type": "code",
   "execution_count": null,
   "metadata": {},
   "outputs": [],
   "source": [
    "#read results from the csv file into pandas df\n",
    "#combine animal information from meta information\n",
    "\n",
    "csvPath = []\n",
    "for f in [mu.splitall(x)[-1][:-4] for x in info.txtPath]:\n",
    "    csvPath.append(glob.glob(ProcessingDir+f+'*siSummary*.csv')[0])\n",
    "\n",
    "df=pd.DataFrame()\n",
    "i=0\n",
    "for fn in csvPath:\n",
    "    print(fn)\n",
    "    tmp=pd.read_csv(fn,index_col=0,sep=',')\n",
    "    tmp.animalSet=i\n",
    "    tmp.animalIndex=tmp.animalIndex+((i)*35)\n",
    "    tmp.animalIndex=np.array(anIDsAll)[tmp.animalIndex]\n",
    "    df=pd.concat([df,tmp])\n",
    "    i+=1\n",
    "df['episode']=[x.strip().replace('_','') for x in df['episode']]\n",
    "df=pd.merge(df,infoAn[['anNr','line','genotype','cohort']],left_on='animalIndex',right_on='anNr',how='left')\n",
    "df=pd.merge(df,info[['date']],left_on='animalSet',right_on=info.index,how='left')\n",
    "\n",
    "print('df shape',df.shape)\n",
    "df.tail(10)"
   ]
  },
  {
   "cell_type": "code",
   "execution_count": null,
   "metadata": {},
   "outputs": [],
   "source": [
    "df.info()"
   ]
  },
  {
   "cell_type": "markdown",
   "metadata": {},
   "source": [
    "# Overview attraction over time"
   ]
  },
  {
   "cell_type": "markdown",
   "metadata": {},
   "source": [
    "Plot shoaling index over time for each group."
   ]
  },
  {
   "cell_type": "code",
   "execution_count": null,
   "metadata": {},
   "outputs": [],
   "source": [
    "dfPlot=(df.groupby(['cohort','inDishTime','genotype']).si.agg(['mean','std'])\n",
    "    .unstack()\n",
    "    .stack(dropna=True)\n",
    "    .reset_index())\n",
    "\n",
    "dfPlot.head()\n"
   ]
  },
  {
   "cell_type": "code",
   "execution_count": null,
   "metadata": {},
   "outputs": [],
   "source": [
    "fig, axes = plt.subplots(figsize=(6, 3))\n",
    "g=sns.scatterplot(data=dfPlot,x='inDishTime',hue='cohort',y='mean')\n",
    "plt.xlim([0,180])\n",
    "plt.ylim([-.05,.4])\n",
    "plt.xlabel('Time (Minutes)')\n",
    "plt.ylabel('Attraction')\n",
    "plt.title('Mean attraction, all animals - per stimulus group')\n",
    "#plt.legend(title='Stimulus dot motion')\n",
    "#plt.legend(labels=['Continuous motion','Bout motion','Continuous + loom','Bout + loom'],\n",
    "#          title='Stimulus dot motion')\n",
    "\n",
    "#new_title = 'Stimulus dot motion'\n",
    "#g.legend_.set_title(new_title)\n",
    "# replace labels\n",
    "plt.legend(ncol=1,handletextpad=0,bbox_to_anchor=(1, 1),loc='upper left')\n",
    "plt.axhline(0)\n",
    "\n",
    "sns.despine()\n",
    "\n",
    "#figPath=base+'ScreenTimeCourse.png'\n",
    "#plt.savefig(figPath,bbox_inches='tight')\n"
   ]
  },
  {
   "cell_type": "code",
   "execution_count": null,
   "metadata": {},
   "outputs": [],
   "source": [
    "dfSize=df.groupby(['animalIndex','genotype'])[['anSize','si']].mean().reset_index()\n"
   ]
  },
  {
   "cell_type": "code",
   "execution_count": null,
   "metadata": {},
   "outputs": [],
   "source": [
    "sns.swarmplot(data=dfSize,x='genotype',y='anSize')"
   ]
  },
  {
   "cell_type": "markdown",
   "metadata": {},
   "source": [
    "# Mean shoaling index over all stimuli per animal"
   ]
  },
  {
   "cell_type": "code",
   "execution_count": null,
   "metadata": {},
   "outputs": [],
   "source": [
    "sns.set_palette('viridis',3)\n",
    "co=sns.color_palette(\"viridis\", 3)\n",
    "idx=(df['inDishTime']<180) & (df['inDishTime']>120)\n",
    "dfDR=df[idx]\n",
    "dfEpiAn=dfDR.groupby(['cohort','animalIndex','line','genotype']).mean(numeric_only=True).reset_index()\n",
    "#dfEpiAn['stim']=np.tile(['noStim','bout'],18)[:35]\n",
    "#dfEpiAn.loc[0,'stim']='bout'"
   ]
  },
  {
   "cell_type": "code",
   "execution_count": null,
   "metadata": {},
   "outputs": [],
   "source": [
    "dfDR.groupby(['animalIndex','cohort','line','genotype']).si.mean(numeric_only=True)"
   ]
  },
  {
   "cell_type": "code",
   "execution_count": null,
   "metadata": {},
   "outputs": [],
   "source": [
    "dfDR.animalIndex.unique()"
   ]
  },
  {
   "cell_type": "code",
   "execution_count": null,
   "metadata": {},
   "outputs": [],
   "source": [
    "dfEpiAn.cohort.unique()"
   ]
  },
  {
   "cell_type": "code",
   "execution_count": null,
   "metadata": {},
   "outputs": [],
   "source": [
    "dfEpiAn.head(35)"
   ]
  },
  {
   "cell_type": "code",
   "execution_count": null,
   "metadata": {},
   "outputs": [],
   "source": [
    "sns.stripplot(data=dfEpiAn,x='cohort',y='si',hue='genotype',zorder=-1, dodge=0.5)\n",
    "#sns.pointplot(data=dfEpiAn,x='stim',y='si',hue='gtA',zorder=100,scale=0.2,palette=['gray'],join=False,dodge=0.5)\n",
    "sns.pointplot(data=dfEpiAn,\n",
    "              x='cohort',\n",
    "              y='si',\n",
    "              hue='genotype',\n",
    "              join=False,\n",
    "              color='k',\n",
    "              dodge=0.5)\n",
    "ax=plt.gca()\n",
    "plt.axhline(0,ls=':',c='k')\n",
    "#ax[0].legend()\n",
    "h,l = ax.get_legend_handles_labels()\n",
    "ax.legend(h[0:2], l[0:2],)   # <<<<<<<< This is where the magic happens\n",
    "#ax.legend_.remove()"
   ]
  },
  {
   "cell_type": "markdown",
   "metadata": {},
   "source": [
    "# Average swim behavior"
   ]
  },
  {
   "cell_type": "code",
   "execution_count": null,
   "metadata": {},
   "outputs": [],
   "source": [
    "selDat=dfEpiAn[(dfEpiAn.cohort=='bout')]\n",
    "selDat.loc[:,'group']=selDat.genotype\n",
    "pf.plotGroupComparison(selDat,['h','m'],['si','avgSpeed_smooth','boutDur','thigmoIndex'],\n",
    "                    labels=['Attraction','Swim speed (mm/s)','Bout duration (s)','Thigmotaxis (mm)'])\n",
    "#plt.suptitle(info.stimulusProtocol[0])"
   ]
  },
  {
   "cell_type": "code",
   "execution_count": null,
   "metadata": {},
   "outputs": [],
   "source": [
    "selDat=dfEpiAn[(dfEpiAn.cohort=='invisible')]\n",
    "selDat.loc[:,'group']=selDat.genotype\n",
    "pf.plotGroupComparison(selDat,['h','m'],['si','avgSpeed_smooth','boutDur','thigmoIndex'],\n",
    "                    labels=['Attraction','Swim speed (mm/s)','Bout duration (s)','Thigmotaxis (mm)'])\n"
   ]
  },
  {
   "cell_type": "markdown",
   "metadata": {},
   "source": [
    "# Below are some random bits to visualize speed/bouts by genotype\n",
    "\n",
    "this is not a finished analysis"
   ]
  },
  {
   "cell_type": "code",
   "execution_count": null,
   "metadata": {},
   "outputs": [],
   "source": [
    "allGt=df.groupby(['animalIndex']).genotype.first().values\n",
    "allGtSortIndex=np.argsort(allGt)\n",
    "allGt[allGtSortIndex]"
   ]
  },
  {
   "cell_type": "code",
   "execution_count": null,
   "metadata": {},
   "outputs": [],
   "source": [
    "allSpeeds=np.array([x.ts.speed_smooth()[:30*60*9*5] for x in expSet.experiments[0].animals[:35]])\n",
    "allSpeeds[np.isnan(allSpeeds)]=0"
   ]
  },
  {
   "cell_type": "code",
   "execution_count": null,
   "metadata": {},
   "outputs": [],
   "source": [
    "fig, axes = plt.subplots(figsize=(8, 6))\n",
    "\n",
    "s,l=50000,4000\n",
    "plt.imshow(allSpeeds[allGtSortIndex,s:s+l],clim=[0,15], aspect='auto',cmap='plasma')\n",
    "axes.set_yticks(np.arange(35));\n",
    "axes.set_yticklabels(allGt[allGtSortIndex]);"
   ]
  },
  {
   "cell_type": "code",
   "execution_count": null,
   "metadata": {},
   "outputs": [],
   "source": [
    "fig, axes = plt.subplots(figsize=(8, 6))\n",
    "plt.plot(np.nanmean(allSpeeds,axis=0))\n",
    "plt.axvline(30*60*9*5)"
   ]
  },
  {
   "cell_type": "code",
   "execution_count": null,
   "metadata": {},
   "outputs": [],
   "source": [
    "header=pd.MultiIndex.from_arrays([allGt,df.animalIndex.unique()],names=['gt','animalIndex'])\n"
   ]
  },
  {
   "cell_type": "code",
   "execution_count": null,
   "metadata": {},
   "outputs": [],
   "source": [
    "speedStack=pd.DataFrame(allSpeeds.T,columns=header).stack([0,1])\n",
    "speedStack.name='speed'\n",
    "speedStack=speedStack.reset_index()"
   ]
  },
  {
   "cell_type": "code",
   "execution_count": null,
   "metadata": {},
   "outputs": [],
   "source": [
    "speedStack"
   ]
  },
  {
   "cell_type": "code",
   "execution_count": null,
   "metadata": {},
   "outputs": [],
   "source": []
  }
 ],
 "metadata": {
  "kernelspec": {
   "display_name": "Python [conda env:jlsocial] *",
   "language": "python",
   "name": "conda-env-jlsocial-py"
  },
  "language_info": {
   "codemirror_mode": {
    "name": "ipython",
    "version": 3
   },
   "file_extension": ".py",
   "mimetype": "text/x-python",
   "name": "python",
   "nbconvert_exporter": "python",
   "pygments_lexer": "ipython3",
   "version": "3.12.3"
  }
 },
 "nbformat": 4,
 "nbformat_minor": 4
}
